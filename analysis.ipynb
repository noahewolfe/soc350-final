{
 "cells": [
  {
   "cell_type": "markdown",
   "id": "b420513a",
   "metadata": {},
   "source": [
    "Access other code libraries that will enable our analysis, e.g. for loading and plotting data."
   ]
  },
  {
   "cell_type": "code",
   "execution_count": 1,
   "id": "ff471d22",
   "metadata": {},
   "outputs": [],
   "source": [
    "import numpy as np\n",
    "import pandas as pd\n",
    "import matplotlib.pyplot as plt"
   ]
  },
  {
   "cell_type": "markdown",
   "id": "3aac18df",
   "metadata": {},
   "source": [
    "# Goal\n",
    "\n",
    "Find a way to make research on food access more accessible beyond the field of sociology, via two methods:\n",
    "\n",
    "(1) Apply sociological principles using tools traditionally used in programming / engineering.\n",
    "(E.g. this `Python` notebook)\n",
    "\n",
    "(2) Calculate a metric that estimates the access to food in a given region that can be easily understood, is based on publically-accessible data, and could even, potentially, be estimated by-hand by a student researcher."
   ]
  },
  {
   "cell_type": "markdown",
   "id": "927ef37c",
   "metadata": {},
   "source": [
    "# Load USDA Data\n",
    "\n",
    "We select a number of counties in North Carolina, defining the scope of our analysis.\n",
    "Then, we load in data from the 2019 USDA Food Access Research Atlas, which is sorted by county census tract."
   ]
  },
  {
   "cell_type": "code",
   "execution_count": 2,
   "id": "4c523119",
   "metadata": {},
   "outputs": [],
   "source": [
    "nc_counties = [\n",
    "    \"Wake County\", \"Harnett County\", \"Johnston County\", \"Wilson County\", \"Nash County\",\n",
    "    \"Franklin County\", \"Granville County\", \"Durham County\", \"Orange County\", \"Chatham County\"\n",
    "]"
   ]
  },
  {
   "cell_type": "code",
   "execution_count": 3,
   "id": "568e3397",
   "metadata": {},
   "outputs": [],
   "source": [
    "usda_df = pd.read_csv(\"./2019-food-access-research-atlas/Food Access Research Atlas.csv\", index_col=\"CensusTract\")"
   ]
  },
  {
   "cell_type": "code",
   "execution_count": 4,
   "id": "5d6905ea",
   "metadata": {},
   "outputs": [],
   "source": [
    "mask = (usda_df[\"State\"] == \"North Carolina\")\n",
    "county_mask = usda_df[\"County\"] == nc_counties[0]\n",
    "for county in nc_counties:\n",
    "    county_mask = county_mask | (usda_df[\"County\"] == county)\n",
    "mask = mask & county_mask\n",
    "usda_df = usda_df[mask]"
   ]
  },
  {
   "cell_type": "markdown",
   "id": "1ea57075",
   "metadata": {},
   "source": [
    "# Load Map Data\n",
    "\n",
    "Pull data from the publically-available OpenStreetMap API (which is similar to a website, allowing you to ask for certain data\"). "
   ]
  },
  {
   "cell_type": "markdown",
   "id": "c26dcbca",
   "metadata": {},
   "source": [
    "We also define a number of specific food brands, of both supermarkets and dollar stores, that we will look at in our analysis. Note that we refer to the dollar stores as \"variety stores\" to match the language of the data from OpenStreetMap, where these are classified as variety stores."
   ]
  },
  {
   "cell_type": "code",
   "execution_count": 5,
   "id": "76ff4e1d",
   "metadata": {},
   "outputs": [],
   "source": [
    "# `enums` to identify different shops\n",
    "special_supermarket_brands = [\"Walmart\", \"Food Lion\", \"Harris Teeter\", \"Whole Foods Market\"]\n",
    "\n",
    "special_variety_store_brands = [\"Family Dollar\", \"Dollar Tree\", \"Dollar General\"]"
   ]
  },
  {
   "cell_type": "markdown",
   "id": "39b9ea28",
   "metadata": {},
   "source": [
    "## Data Exploration\n",
    "\n",
    "Here, we take a look at some initial summary statistics relating to our data. In total, we loaded in >1600 different stores, over 106 unique brands, across 10 counties in North Carolina."
   ]
  },
  {
   "cell_type": "code",
   "execution_count": 6,
   "id": "4f8b9c94",
   "metadata": {},
   "outputs": [],
   "source": [
    "map_df  = pd.read_pickle(\"./map.pkl\")"
   ]
  },
  {
   "cell_type": "markdown",
   "id": "d9b0f0cb",
   "metadata": {},
   "source": [
    "Here, we display what the data structure `map_df` looks like; it's a database of different stores, their brands, the type of store, their geographic location, and the county they are in."
   ]
  },
  {
   "cell_type": "code",
   "execution_count": 7,
   "id": "f9616877",
   "metadata": {},
   "outputs": [
    {
     "data": {
      "text/html": [
       "<div>\n",
       "<style scoped>\n",
       "    .dataframe tbody tr th:only-of-type {\n",
       "        vertical-align: middle;\n",
       "    }\n",
       "\n",
       "    .dataframe tbody tr th {\n",
       "        vertical-align: top;\n",
       "    }\n",
       "\n",
       "    .dataframe thead th {\n",
       "        text-align: right;\n",
       "    }\n",
       "</style>\n",
       "<table border=\"1\" class=\"dataframe\">\n",
       "  <thead>\n",
       "    <tr style=\"text-align: right;\">\n",
       "      <th></th>\n",
       "      <th>store_name</th>\n",
       "      <th>brand</th>\n",
       "      <th>operator</th>\n",
       "      <th>shop</th>\n",
       "      <th>latitude</th>\n",
       "      <th>longitude</th>\n",
       "      <th>county</th>\n",
       "    </tr>\n",
       "  </thead>\n",
       "  <tbody>\n",
       "    <tr>\n",
       "      <th>0</th>\n",
       "      <td>Harris Teeter</td>\n",
       "      <td>Harris Teeter</td>\n",
       "      <td>Harris Teeter</td>\n",
       "      <td>supermarket</td>\n",
       "      <td>35.7899810</td>\n",
       "      <td>-78.8519344</td>\n",
       "      <td>Wake County</td>\n",
       "    </tr>\n",
       "    <tr>\n",
       "      <th>1</th>\n",
       "      <td>Walmart Neighborhood Market</td>\n",
       "      <td>Walmart</td>\n",
       "      <td>Walmart</td>\n",
       "      <td>supermarket</td>\n",
       "      <td>35.7857771</td>\n",
       "      <td>-78.8692246</td>\n",
       "      <td>Wake County</td>\n",
       "    </tr>\n",
       "    <tr>\n",
       "      <th>2</th>\n",
       "      <td>Patel Brothers</td>\n",
       "      <td>Patel Brothers</td>\n",
       "      <td>Patel Brothers</td>\n",
       "      <td>supermarket</td>\n",
       "      <td>35.7908907</td>\n",
       "      <td>-78.7633011</td>\n",
       "      <td>Wake County</td>\n",
       "    </tr>\n",
       "    <tr>\n",
       "      <th>3</th>\n",
       "      <td>CapriFlavors</td>\n",
       "      <td>n/a</td>\n",
       "      <td>n/a</td>\n",
       "      <td>supermarket</td>\n",
       "      <td>35.8098029</td>\n",
       "      <td>-78.8222667</td>\n",
       "      <td>Wake County</td>\n",
       "    </tr>\n",
       "    <tr>\n",
       "      <th>4</th>\n",
       "      <td>Valero</td>\n",
       "      <td>Valero</td>\n",
       "      <td>Valero</td>\n",
       "      <td>convenience</td>\n",
       "      <td>35.8372220</td>\n",
       "      <td>-78.5818515</td>\n",
       "      <td>Wake County</td>\n",
       "    </tr>\n",
       "    <tr>\n",
       "      <th>...</th>\n",
       "      <td>...</td>\n",
       "      <td>...</td>\n",
       "      <td>...</td>\n",
       "      <td>...</td>\n",
       "      <td>...</td>\n",
       "      <td>...</td>\n",
       "      <td>...</td>\n",
       "    </tr>\n",
       "    <tr>\n",
       "      <th>1636</th>\n",
       "      <td>n/a</td>\n",
       "      <td>n/a</td>\n",
       "      <td>n/a</td>\n",
       "      <td>convenience</td>\n",
       "      <td>31.9954338</td>\n",
       "      <td>-81.1125306</td>\n",
       "      <td>Chatham County</td>\n",
       "    </tr>\n",
       "    <tr>\n",
       "      <th>1637</th>\n",
       "      <td>n/a</td>\n",
       "      <td>n/a</td>\n",
       "      <td>n/a</td>\n",
       "      <td>convenience</td>\n",
       "      <td>32.0197772</td>\n",
       "      <td>-81.0746898</td>\n",
       "      <td>Chatham County</td>\n",
       "    </tr>\n",
       "    <tr>\n",
       "      <th>1638</th>\n",
       "      <td>n/a</td>\n",
       "      <td>n/a</td>\n",
       "      <td>n/a</td>\n",
       "      <td>convenience</td>\n",
       "      <td>35.7217179</td>\n",
       "      <td>-79.4669729</td>\n",
       "      <td>Chatham County</td>\n",
       "    </tr>\n",
       "    <tr>\n",
       "      <th>1639</th>\n",
       "      <td>Family Dollar</td>\n",
       "      <td>Family Dollar</td>\n",
       "      <td>Family Dollar</td>\n",
       "      <td>variety_store</td>\n",
       "      <td>31.9871196</td>\n",
       "      <td>-81.0731932</td>\n",
       "      <td>Chatham County</td>\n",
       "    </tr>\n",
       "    <tr>\n",
       "      <th>1640</th>\n",
       "      <td>Dollar Tree</td>\n",
       "      <td>Dollar Tree</td>\n",
       "      <td>Dollar Tree</td>\n",
       "      <td>variety_store</td>\n",
       "      <td>31.9872948</td>\n",
       "      <td>-81.0733040</td>\n",
       "      <td>Chatham County</td>\n",
       "    </tr>\n",
       "  </tbody>\n",
       "</table>\n",
       "<p>1641 rows × 7 columns</p>\n",
       "</div>"
      ],
      "text/plain": [
       "                       store_name           brand        operator  \\\n",
       "0                   Harris Teeter   Harris Teeter   Harris Teeter   \n",
       "1     Walmart Neighborhood Market         Walmart         Walmart   \n",
       "2                  Patel Brothers  Patel Brothers  Patel Brothers   \n",
       "3                    CapriFlavors             n/a             n/a   \n",
       "4                          Valero          Valero          Valero   \n",
       "...                           ...             ...             ...   \n",
       "1636                          n/a             n/a             n/a   \n",
       "1637                          n/a             n/a             n/a   \n",
       "1638                          n/a             n/a             n/a   \n",
       "1639                Family Dollar   Family Dollar   Family Dollar   \n",
       "1640                  Dollar Tree     Dollar Tree     Dollar Tree   \n",
       "\n",
       "               shop    latitude    longitude          county  \n",
       "0       supermarket  35.7899810  -78.8519344     Wake County  \n",
       "1       supermarket  35.7857771  -78.8692246     Wake County  \n",
       "2       supermarket  35.7908907  -78.7633011     Wake County  \n",
       "3       supermarket  35.8098029  -78.8222667     Wake County  \n",
       "4       convenience  35.8372220  -78.5818515     Wake County  \n",
       "...             ...         ...          ...             ...  \n",
       "1636    convenience  31.9954338  -81.1125306  Chatham County  \n",
       "1637    convenience  32.0197772  -81.0746898  Chatham County  \n",
       "1638    convenience  35.7217179  -79.4669729  Chatham County  \n",
       "1639  variety_store  31.9871196  -81.0731932  Chatham County  \n",
       "1640  variety_store  31.9872948  -81.0733040  Chatham County  \n",
       "\n",
       "[1641 rows x 7 columns]"
      ]
     },
     "execution_count": 7,
     "metadata": {},
     "output_type": "execute_result"
    }
   ],
   "source": [
    "map_df"
   ]
  },
  {
   "cell_type": "markdown",
   "id": "3504f11e",
   "metadata": {},
   "source": [
    "Next, we print the number of unique entries in each column; since we expect the latitude and longitudes to be totally unique between stores, the number of unique locations gives us a rough estimate of the number of unique stores we loaded in over 10 counties. (Though I'm not sure why the number of unique latitudes and longitudes differs by 1... maybe two stores are at the same latitude to 7 decimal places?)"
   ]
  },
  {
   "cell_type": "code",
   "execution_count": 8,
   "id": "e79e7a16",
   "metadata": {},
   "outputs": [
    {
     "data": {
      "text/plain": [
       "store_name     470\n",
       "brand          106\n",
       "operator       106\n",
       "shop             3\n",
       "latitude      1637\n",
       "longitude     1638\n",
       "county          10\n",
       "dtype: int64"
      ]
     },
     "execution_count": 8,
     "metadata": {},
     "output_type": "execute_result"
    }
   ],
   "source": [
    "map_df.nunique(axis=0)"
   ]
  },
  {
   "cell_type": "markdown",
   "id": "ce3ea082",
   "metadata": {},
   "source": [
    "Similarly, we can look at the number of unique stores in each county, again grouping by `latitude` which we assume to be unique between stores."
   ]
  },
  {
   "cell_type": "code",
   "execution_count": 9,
   "id": "ff0c4e2f",
   "metadata": {},
   "outputs": [
    {
     "data": {
      "text/plain": [
       "county\n",
       "Chatham County       62\n",
       "Durham County       119\n",
       "Franklin County     565\n",
       "Granville County      8\n",
       "Harnett County       20\n",
       "Johnston County      29\n",
       "Nash County          15\n",
       "Orange County       647\n",
       "Wake County         139\n",
       "Wilson County        34\n",
       "Name: latitude, dtype: int64"
      ]
     },
     "execution_count": 9,
     "metadata": {},
     "output_type": "execute_result"
    }
   ],
   "source": [
    "# number of stores, of any kind, in each county\n",
    "map_df.groupby(\"county\")[\"latitude\"].nunique()"
   ]
  },
  {
   "cell_type": "markdown",
   "id": "66a3ab64",
   "metadata": {},
   "source": [
    "We perform a quick check of our data, looking at the number of different stores, of each brand, that exist in Wake County. For example, I can quickly look up that there are indeed 2 Whole Foods Market stores in Wake County, which matches our data."
   ]
  },
  {
   "cell_type": "code",
   "execution_count": 10,
   "id": "f63596a5",
   "metadata": {},
   "outputs": [
    {
     "data": {
      "text/plain": [
       "brand\n",
       "ABC                    1\n",
       "ALDI                   5\n",
       "Aldi                   2\n",
       "Circle K               7\n",
       "Cruizers               2\n",
       "Dollar General         2\n",
       "Dollar Tree            6\n",
       "Eagles                 1\n",
       "Family Dollar          2\n",
       "Food Lion              8\n",
       "H Mart                 1\n",
       "Harris Teeter         13\n",
       "Kangaroo Express       2\n",
       "Lidl                   4\n",
       "Lowes Foods            2\n",
       "Marathon               1\n",
       "Patel Brothers         1\n",
       "Publix                 1\n",
       "RaceWay                1\n",
       "Sheetz                 7\n",
       "The Fresh Market       1\n",
       "Trader Joe's           2\n",
       "Valero                 1\n",
       "Walmart                6\n",
       "Wegmans                3\n",
       "Whole Foods Market     2\n",
       "n/a                   55\n",
       "Name: latitude, dtype: int64"
      ]
     },
     "execution_count": 10,
     "metadata": {},
     "output_type": "execute_result"
    }
   ],
   "source": [
    "map_df[map_df[\"county\"] == \"Wake County\"].groupby(\"brand\")[\"latitude\"].nunique()"
   ]
  },
  {
   "cell_type": "markdown",
   "id": "9de1dcc2",
   "metadata": {},
   "source": [
    "First, we collect the different specific brands that we wanted to study in our analysis, and we county how many of each brand are in each county."
   ]
  },
  {
   "cell_type": "code",
   "execution_count": 11,
   "id": "04e8b389",
   "metadata": {},
   "outputs": [],
   "source": [
    "n_supermarkets = {\n",
    "    \"Walmart\"            : [],\n",
    "    \"Food Lion\"          : [],\n",
    "    \"Harris Teeter\"      : [],\n",
    "    \"Whole Foods Market\" : [],\n",
    "}\n",
    "\n",
    "n_variety = {\n",
    "    \"Family Dollar\"  : [],\n",
    "    \"Dollar Tree\"    : [],\n",
    "    \"Dollar General\" : [],\n",
    "}\n",
    "\n",
    "for county in nc_counties:\n",
    "    brands_in_county = map_df[map_df[\"county\"] == county].groupby(\"brand\")[\"latitude\"].nunique()\n",
    "    for k in special_supermarket_brands:\n",
    "        n_supermarkets[k].append(\n",
    "            brands_in_county.get(k, 0)\n",
    "        )\n",
    "        \n",
    "    for k in special_variety_store_brands:\n",
    "        n_variety[k].append(\n",
    "            brands_in_county.get(k, 0)\n",
    "        )\n",
    "    "
   ]
  },
  {
   "cell_type": "markdown",
   "id": "5525464b",
   "metadata": {},
   "source": [
    "Next, we tally the number of people classified as \"low-income and low-access\", to any radius, by the USDA Food Access Research Atlas."
   ]
  },
  {
   "cell_type": "code",
   "execution_count": 12,
   "id": "2ecedf6e",
   "metadata": {},
   "outputs": [],
   "source": [
    "access_pop_keys = [\n",
    "    \"LALOWI1_10\",\n",
    "    \"LALOWI05_10\",\n",
    "    \"LALOWI1_20\",\n",
    "]\n",
    "\n",
    "county_pops = []\n",
    "low_access_low_income_pops = []\n",
    "\n",
    "for county in nc_counties:\n",
    "    county_pops.append(\n",
    "        usda_df[usda_df[\"County\"] == county][\"Pop2010\"].sum()\n",
    "    )\n",
    "    \n",
    "    low_access_low_income_pops.append(\n",
    "        usda_df[usda_df[\"County\"] == county][access_pop_keys].sum().sum()\n",
    "    )\n",
    "    \n",
    "county_pops = np.array(county_pops)\n",
    "low_access_low_income_pops = np.array(low_access_low_income_pops)"
   ]
  },
  {
   "cell_type": "markdown",
   "id": "9550bb87",
   "metadata": {},
   "source": [
    "Finally, we combine all of this data into a special `Python` data structure known as a `DataFrame`; this is like a spreadsheet table, represented in our code. (This is the same kind of data structure as `map_df`, but we loaded that in from a file, while here we are constructing it ourselves in-code)."
   ]
  },
  {
   "cell_type": "code",
   "execution_count": 13,
   "id": "654f5354",
   "metadata": {},
   "outputs": [],
   "source": [
    "collated_data = {**dict(\n",
    "    lalo_pop=low_access_low_income_pops,\n",
    "    pop=county_pops,\n",
    "), **n_supermarkets, **n_variety}\n",
    "\n",
    "all_df = pd.DataFrame(collated_data)"
   ]
  },
  {
   "cell_type": "markdown",
   "id": "b07034e8",
   "metadata": {},
   "source": [
    "# Math!\n",
    "\n",
    "Here, we apply a method known as `Active Subspace Analysis`, from Constantine et al. (2015)."
   ]
  },
  {
   "cell_type": "code",
   "execution_count": 14,
   "id": "46247661",
   "metadata": {},
   "outputs": [],
   "source": [
    "def calc_w(X, y):\n",
    "    b = np.linalg.lstsq(X, y, rcond=None)[0]\n",
    "    w = b / np.linalg.norm(b)\n",
    "    return w\n",
    "\n",
    "def do_as(df, X_cols, y_col, norm=\"zscore\"):\n",
    "    if y_col in X_cols:\n",
    "        idx = X_cols.index(y_col)\n",
    "        X_cols = X_cols[:idx] + X_cols[idx+1:]\n",
    "    \n",
    "    X_raw = np.array(df[X_cols])\n",
    "    y_raw = df[y_col].values\n",
    "    \n",
    "    if norm == \"zscore\":\n",
    "        X = scipy.stats.zscore(X_raw, axis=1)\n",
    "        y = scipy.stats.zscore(y_raw)\n",
    "        \n",
    "        X_mean = np.mean(X_raw, axis=0)\n",
    "        X_std  = np.std(X_raw, axis=0)\n",
    "        undo_X_norm = lambda z: z * X_std + X_mean\n",
    "        \n",
    "        y_mean = np.mean(y_raw)\n",
    "        y_std  = np.std(y_raw)\n",
    "        print(y_mean, y_std)\n",
    "        undo_y_norm = lambda z: z * y_std + y_mean\n",
    "    elif norm == \"max\":\n",
    "        X_max = X_raw.max(axis=0)\n",
    "        X = X_raw / X_max\n",
    "        \n",
    "        y_max = y_raw.max(axis=0)\n",
    "        y = y_raw / y_max\n",
    "        \n",
    "        undo_X_norm = lambda x: x * X_max\n",
    "        undo_y_norm = lambda y: y * y_max\n",
    "    else:\n",
    "        X, y = X_raw, y_raw\n",
    "        undo_X_norm = None\n",
    "        undo_y_norm = None\n",
    "    \n",
    "    ### calculate active variable weights\n",
    "    w = calc_w(X, y)\n",
    "    print(w)\n",
    "    \n",
    "    ### calculate active variable\n",
    "    nsims = X.shape[0]\n",
    "    active_variable = np.zeros(nsims)\n",
    "    for i in range(nsims):\n",
    "        active_variable[i] = w.T @ X[i,:]\n",
    "    \n",
    "    ### linear regression of y vs. active variable\n",
    "    C, ss_res, _, _ = np.linalg.lstsq( \n",
    "        np.vstack((active_variable, np.ones(nsims))).T, y, rcond=None\n",
    "    )\n",
    "    # calculate r^2 of this linear regression\n",
    "    ss_tot = np.sum( (y - y.mean())**2 )\n",
    "    r2 = 1 - ss_res / ss_tot\n",
    "    print(\"r2:\", r2)\n",
    "    print(\"C:\", C)\n",
    "    \n",
    "    return dict(\n",
    "        w = w,\n",
    "        active_variable = active_variable,\n",
    "        C = C,\n",
    "        X = X,\n",
    "        y = y,\n",
    "        X_cols = X_cols,\n",
    "        y_col = y_col,\n",
    "        X_raw = X_raw,\n",
    "        y_raw = y_raw,\n",
    "        undo_X_norm = undo_X_norm,\n",
    "        undo_y_norm = undo_y_norm\n",
    "    )\n",
    "\n",
    "def as_plots(\n",
    "    w, active_variable, C, X, y, X_raw, y_raw, X_cols, y_col, undo_X_norm, undo_y_norm, \n",
    "    X_latex_labels=None, y_latex_label=None, shaded_X_colors=None, plot_log=False):    \n",
    "    if X_latex_labels is None:\n",
    "        X_latex_labels = X_cols\n",
    "    if y_latex_label is None:\n",
    "        y_latex_label = y_col\n",
    "    \n",
    "    ### plot active variable weights\n",
    "    fig1, ax1 = plt.subplots(figsize=(12,8),dpi=80)\n",
    "    \n",
    "    if plot_log == True:\n",
    "        ax1.scatter(np.arange(w.shape[0]), np.log10(np.abs(w)), color=\"black\", zorder=5)\n",
    "    else:\n",
    "        ax1.scatter(np.arange(w.shape[0]), (np.abs(w)), color=\"black\", zorder=5)\n",
    "    \n",
    "    ax1.set_xticks(np.arange(w.shape[0]))\n",
    "    ax1.set_xticklabels(X_latex_labels, rotation=45)\n",
    "\n",
    "    ax1.tick_params(labelsize=20)\n",
    "\n",
    "    ax1.set_xlabel(\"Parameter $i$\", fontsize=20)\n",
    "    \n",
    "    \n",
    "    if plot_log == True:\n",
    "        ax1.set_ylabel(\"$\\log_{10}|w_i|$\", fontsize=20)\n",
    "    else:\n",
    "        ax1.set_ylabel(\"$|w_i|$\", fontsize=20)\n",
    "    \n",
    "    if shaded_X_colors is not None:\n",
    "        for i,c in enumerate(shaded_X_colors):\n",
    "            ax1.fill_between( [i-0.5,i+0.5], -2.5, 0, alpha=0.3, color=c, edgecolor=None)\n",
    "    \n",
    "    ### plot (scaled) y vs. active variable w/ linear regression\n",
    "    # calc linear regression\n",
    "    a_x = np.linspace(active_variable.min(),active_variable.max(),100)\n",
    "    a_y = a_x * C[0] + C[1]\n",
    "    \n",
    "    fig2, ax2 = plt.subplots(figsize=(12,8),dpi=80)\n",
    "    ax2.plot( active_variable, y, marker=\"o\", linestyle=\"\" )\n",
    "    ax2.set_xlabel(\"Active Variable\", fontsize=20)\n",
    "    ax2.set_ylabel(\"Scaled %s\" % y_latex_label, fontsize=20)\n",
    "    ax2.tick_params(labelsize=20)\n",
    "    \n",
    "    ax2.plot(a_x, a_y)\n",
    "    \n",
    "    ### plot (real) y vs. active variable w/ linear regression\n",
    "    # calc linear regression\n",
    "    fig2, ax3 = plt.subplots(figsize=(12,8),dpi=80)\n",
    "    ax3.plot( active_variable, y_raw, marker=\"o\", linestyle=\"\" )\n",
    "    ax3.set_xlabel(\"Active Variable\", fontsize=20)\n",
    "    ax3.set_ylabel(\"%s\" % y_latex_label, fontsize=20)\n",
    "    ax3.tick_params(labelsize=20)\n",
    "    \n",
    "    a_x = np.linspace(active_variable.min(),active_variable.max(),100)\n",
    "    a_y = undo_y_norm( a_x * C[0] + C[1] )\n",
    "    ax3.plot(a_x, a_y)\n",
    "    \n"
   ]
  },
  {
   "cell_type": "markdown",
   "id": "06075087",
   "metadata": {},
   "source": [
    "# Results\n",
    "\n",
    "We conduct our active subspace analysis, following Constantine et al. (2015); the first plot is the parameter weights $w_i$, which give a relative importance rating to each parameter on the x-axis. So, we observe that the number of Walmart stores in a county is the most important parameter in predicting the low-access, low-income population in a county, while the number Dollar General stores is the least important.\n",
    "\n",
    "In the second plot, we show a diagnostic plot. Here, we look at the \"active variable\", which is a new metric for predicting the number of low-access, low-income individuals in a county, generated by active subspace anaylsis. In particular, the second plot shows the number of low-access, low-income individuals (scaled to be from 0 to 1, by dividing by the max number of such individuals among our ten counties) versus the active variable. If the active variable is a good predictor of the low-access, low-income population, this relationship will be a straight line-- which we show with the linear fit in orange. Thus, we can trust our statistical results.\n",
    "\n",
    "The third and final plot shows the same thing, but with the real (not normalized) low-income, low-access population on the y-axis."
   ]
  },
  {
   "cell_type": "code",
   "execution_count": 15,
   "id": "ce8aa337",
   "metadata": {
    "scrolled": false
   },
   "outputs": [
    {
     "name": "stdout",
     "output_type": "stream",
     "text": [
      "[ 0.28367658  0.62354668  0.08009939  0.46067251 -0.4629744  -0.27888441\n",
      " -0.13451804 -0.04318751]\n",
      "r2: [0.99398438]\n",
      "C: [1.48531788 0.00490543]\n"
     ]
    },
    {
     "data": {
      "image/png": "[encoded data removed]",
      "text/plain": [
       "<Figure size 960x640 with 1 Axes>"
      ]
     },
     "metadata": {
      "needs_background": "light"
     },
     "output_type": "display_data"
    },
    {
     "data": {
      "image/png": "[encoded data removed]",
      "text/plain": [
       "<Figure size 960x640 with 1 Axes>"
      ]
     },
     "metadata": {
      "needs_background": "light"
     },
     "output_type": "display_data"
    },
    {
     "data": {
      "image/png": "[encoded data removed]",
      "text/plain": [
       "<Figure size 960x640 with 1 Axes>"
      ]
     },
     "metadata": {
      "needs_background": "light"
     },
     "output_type": "display_data"
    }
   ],
   "source": [
    "res = do_as(\n",
    "    all_df, \n",
    "    ['pop', 'Walmart', 'Food Lion', 'Harris Teeter','Whole Foods Market', 'Family Dollar', 'Dollar Tree', 'Dollar General'], \n",
    "    \"lalo_pop\", norm=\"max\"\n",
    ")\n",
    "as_plots(**res) "
   ]
  },
  {
   "cell_type": "code",
   "execution_count": null,
   "id": "7a2a711a",
   "metadata": {},
   "outputs": [],
   "source": []
  }
 ],
 "metadata": {
  "kernelspec": {
   "display_name": "Python [conda env:soc350-final]",
   "language": "python",
   "name": "conda-env-soc350-final-py"
  },
  "language_info": {
   "codemirror_mode": {
    "name": "ipython",
    "version": 3
   },
   "file_extension": ".py",
   "mimetype": "text/x-python",
   "name": "python",
   "nbconvert_exporter": "python",
   "pygments_lexer": "ipython3",
   "version": "3.8.13"
  }
 },
 "nbformat": 4,
 "nbformat_minor": 5
}
