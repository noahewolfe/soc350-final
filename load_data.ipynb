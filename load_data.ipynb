{
 "cells": [
  {
   "cell_type": "markdown",
   "id": "faaacab8",
   "metadata": {},
   "source": [
    "Code libraries that we load in to make our analysis possible. Note that `tqdm` is just used to render a progress bar as we load in data from OpenStreetMap, and `overpy` is used to access the OpenStreetMap data from the internet."
   ]
  },
  {
   "cell_type": "code",
   "execution_count": 1,
   "id": "d3098aa4",
   "metadata": {},
   "outputs": [],
   "source": [
    "import numpy as np\n",
    "import pandas as pd\n",
    "import matplotlib.pyplot as plt\n",
    "\n",
    "from tqdm import tqdm\n",
    "\n",
    "import overpy"
   ]
  },
  {
   "cell_type": "markdown",
   "id": "daa1de3f",
   "metadata": {},
   "source": [
    "Here, we define the NC counties that we want to pull data about."
   ]
  },
  {
   "cell_type": "code",
   "execution_count": 2,
   "id": "43fdaab6",
   "metadata": {},
   "outputs": [],
   "source": [
    "nc_counties = [\n",
    "    \"Wake County\", \"Harnett County\", \"Johnston County\", \"Wilson County\", \"Nash County\",\n",
    "    \"Franklin County\", \"Granville County\", \"Durham County\", \"Orange County\", \"Chatham County\"\n",
    "]"
   ]
  },
  {
   "cell_type": "markdown",
   "id": "0d6cb17f",
   "metadata": {},
   "source": [
    "First, we establish a connection to the OpenStreetMap internet servers."
   ]
  },
  {
   "cell_type": "code",
   "execution_count": 3,
   "id": "ad649585",
   "metadata": {},
   "outputs": [],
   "source": [
    "api = overpy.Overpass()"
   ]
  },
  {
   "cell_type": "markdown",
   "id": "b6604480",
   "metadata": {},
   "source": [
    "We then define a function to generate a query in the somewhat difficult-to-read query language used by the OpenStreetMap servers. This query looks for `variety_store` (e.g. dollar stores), `supermarket`, and `convenience` stores in an OpenStreetMap \"area\" (e.g. a county) named with the `area_name` variable. This query is structure so that we ask for information on the coordinates, store name, brand name, and operating company, for all of the stores in the area we search."
   ]
  },
  {
   "cell_type": "code",
   "execution_count": 20,
   "id": "f3176bc6",
   "metadata": {},
   "outputs": [],
   "source": [
    "def generate_query(area_name):\n",
    "    return f'area[\"name\"=\"{area_name}\"]->.searchArea;(node[\"shop\"=\"variety_store\"](area.searchArea);way[\"shop\"=\"variety_store\"](area.searchArea);relation[\"shop\"=\"variety_store\"](area.searchArea);node[\"shop\"=\"supermarket\"](area.searchArea);way[\"shop\"=\"supermarket\"](area.searchArea);relation[\"shop\"=\"supermarket\"](area.searchArea);node[\"shop\"=\"convenience\"](area.searchArea);way[\"shop\"=\"convenience\"](area.searchArea);relation[\"shop\"=\"convenience\"](area.searchArea););out;>;out skel qt;'"
   ]
  },
  {
   "cell_type": "markdown",
   "id": "11e3297b",
   "metadata": {},
   "source": [
    "We then actually query the OpenStreetMap servers, using our custom query function defined above. Then, we save this data in lists."
   ]
  },
  {
   "cell_type": "code",
   "execution_count": 21,
   "id": "d1b9cf6b",
   "metadata": {},
   "outputs": [
    {
     "name": "stderr",
     "output_type": "stream",
     "text": [
      "100%|███████████████████████████████████████████| 10/10 [01:03<00:00,  6.32s/it]\n"
     ]
    }
   ],
   "source": [
    "store_name = []\n",
    "brand      = []\n",
    "operator   = []\n",
    "shop       = []\n",
    "latitude   = []\n",
    "longitude  = []\n",
    "county     = []\n",
    "\n",
    "for county_name in tqdm(nc_counties):\n",
    "    query = generate_query(county_name)\n",
    "    result = api.query(query)\n",
    "\n",
    "    for way in result.ways:\n",
    "        store_name.append( way.tags.get(\"name\", \"n/a\") )\n",
    "        brand.append( way.tags.get(\"brand\", \"n/a\") )\n",
    "        operator.append( way.tags.get(\"brand\", \"n/a\") )\n",
    "        shop.append( way.tags.get(\"shop\", shop_type) )\n",
    "        latitude.append( way.nodes[0].lat )\n",
    "        longitude.append( way.nodes[0].lon )\n",
    "        county.append(county_name)"
   ]
  },
  {
   "cell_type": "markdown",
   "id": "03ff1359",
   "metadata": {},
   "source": [
    "Finally, we write these data to a `DataFrame`, a database-like data structure, and save that data structure to the local computer in `.pkl` (short for pickle!) format. The resulting file is `map.pkl`, in the same directory as this code."
   ]
  },
  {
   "cell_type": "code",
   "execution_count": 22,
   "id": "3ba69e72",
   "metadata": {},
   "outputs": [],
   "source": [
    "map_df = pd.DataFrame(dict(\n",
    "    store_name=store_name, \n",
    "    brand=brand, \n",
    "    operator=operator, \n",
    "    shop=shop,\n",
    "    latitude=latitude, \n",
    "    longitude=longitude,\n",
    "    county=county\n",
    "))"
   ]
  },
  {
   "cell_type": "code",
   "execution_count": 25,
   "id": "23fdc44e",
   "metadata": {},
   "outputs": [],
   "source": [
    "map_df.to_pickle(\"./map.pkl\")"
   ]
  }
 ],
 "metadata": {
  "kernelspec": {
   "display_name": "Python [conda env:soc350-final]",
   "language": "python",
   "name": "conda-env-soc350-final-py"
  },
  "language_info": {
   "codemirror_mode": {
    "name": "ipython",
    "version": 3
   },
   "file_extension": ".py",
   "mimetype": "text/x-python",
   "name": "python",
   "nbconvert_exporter": "python",
   "pygments_lexer": "ipython3",
   "version": "3.8.13"
  }
 },
 "nbformat": 4,
 "nbformat_minor": 5
}
